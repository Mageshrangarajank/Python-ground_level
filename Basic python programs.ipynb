{
 "cells": [
  {
   "cell_type": "code",
   "execution_count": 1,
   "id": "acadee2f",
   "metadata": {},
   "outputs": [
    {
     "name": "stdout",
     "output_type": "stream",
     "text": [
      "Enter 'exit' if your done!\n",
      "\n",
      "Enter your number to squared: 23\n",
      "23 squared is 529.0 \n",
      "\n",
      "Enter your number to squared: exit\n",
      "Thank You!\n"
     ]
    }
   ],
   "source": [
    "#squaring a number\n",
    "print(\"Enter 'exit' if your done!\\n\")\n",
    "while True:\n",
    "        data=input(\"Enter your number to squared: \")\n",
    "        if data==\"exit\":\n",
    "            break\n",
    "        i=float(data)\n",
    "        print(data,\"squared is\",i*i,\"\\n\")\n",
    "    \n",
    "print(\"Thank You!\")\n",
    "        "
   ]
  },
  {
   "cell_type": "code",
   "execution_count": 8,
   "id": "1d63e75d",
   "metadata": {},
   "outputs": [
    {
     "name": "stdout",
     "output_type": "stream",
     "text": [
      "1000\n"
     ]
    }
   ],
   "source": [
    "#maxm of 3 numbers\n",
    "def max_num(n1,n2,n3):\n",
    "    if n1>=n2 and n1>=n3:\n",
    "        return n1\n",
    "    elif n2>=n2 and n2>=n3:\n",
    "        return n2\n",
    "    else:\n",
    "        return n3\n",
    "print(max_num(200,300,1000))\n"
   ]
  },
  {
   "cell_type": "code",
   "execution_count": 9,
   "id": "91dc4e9b",
   "metadata": {},
   "outputs": [
    {
     "name": "stdout",
     "output_type": "stream",
     "text": [
      "enter the sub total: 100000\n",
      "105000.0\n"
     ]
    }
   ],
   "source": [
    "def tax_percent(sub_total,total):\n",
    "    if sub_total<=100000:\n",
    "        total=sub_total+sub_total*.05\n",
    "        print(total)\n",
    "    elif sub_total>=100000 and sub_total<500000:\n",
    "        total=sub_total+sub_total*.08\n",
    "        print(total)\n",
    "    else:\n",
    "        total=sub_total+sub_total*.1\n",
    "        print(total)\n",
    "\n",
    "sub_total=float(input(\"enter the sub total: \"))\n",
    "tax_percent(sub_total,total=0)\n"
   ]
  },
  {
   "cell_type": "code",
   "execution_count": 10,
   "id": "f8263789",
   "metadata": {},
   "outputs": [
    {
     "name": "stdout",
     "output_type": "stream",
     "text": [
      "May be a LCU name!!\n",
      "Enter your guess: leo\n",
      "You win!\n"
     ]
    }
   ],
   "source": [
    "#secret word game\n",
    "secret_word=\"leo\"\n",
    "print(\"May be a LCU name!!\")\n",
    "guess=\"\"\n",
    "guess_count=0\n",
    "guess_limit=3\n",
    "out_of_guesses= False\n",
    "while guess!=secret_word and not (out_of_guesses):\n",
    "    if guess_count < guess_limit:\n",
    "        guess=input(\"Enter your guess: \")\n",
    "        guess_count+=1\n",
    "    else:\n",
    "        out_of_guesses= True\n",
    "if out_of_guesses:\n",
    "        print(\"Your are out of chances,you lose!\")\n",
    "else:\n",
    "    print(\"You win!\")"
   ]
  },
  {
   "cell_type": "code",
   "execution_count": 11,
   "id": "6a64bf82",
   "metadata": {},
   "outputs": [
    {
     "name": "stdout",
     "output_type": "stream",
     "text": [
      "Enter 'exit' if your done!\n",
      "\n",
      "Enter your number to squared: 80\n",
      "80 squared is 6400.0 \n",
      "\n",
      "Enter your number to squared: 90\n",
      "90 squared is 8100.0 \n",
      "\n",
      "Enter your number to squared: 60\n",
      "60 squared is 3600.0 \n",
      "\n",
      "Enter your number to squared: 1.2\n",
      "1.2 squared is 1.44 \n",
      "\n",
      "Enter your number to squared: exit\n",
      "Thank You!\n"
     ]
    }
   ],
   "source": [
    "#square of multiple number\n",
    "print(\"Enter 'exit' if your done!\\n\")\n",
    "while True:\n",
    "        data=input(\"Enter your number to squared: \")\n",
    "        if data==\"exit\":\n",
    "            break\n",
    "        i=float(data)\n",
    "        print(data,\"squared is\",i*i,\"\\n\")\n",
    "    \n",
    "print(\"Thank You!\")\n",
    "        "
   ]
  },
  {
   "cell_type": "code",
   "execution_count": 1,
   "id": "98614c1a",
   "metadata": {},
   "outputs": [
    {
     "name": "stdout",
     "output_type": "stream",
     "text": [
      "initial state = 1\n",
      "From State 1 - State 2\n",
      "From State 2 - State 3\n",
      "From State 3 - State 3\n",
      "From State 3 - State 2\n",
      "From State 2 - State 1\n",
      "From State 1 - State 1\n"
     ]
    }
   ],
   "source": [
    "#classes\n",
    "class StateMachine:\n",
    "    def __init__(self):\n",
    "        self.current_state = 1\n",
    "    \n",
    "    def transition(self, target_state):\n",
    "        print(f\"From State {self.current_state} - State {target_state}\")\n",
    "        self.current_state = target_state\n",
    "        \n",
    "    def run(self):\n",
    "        self.transition(2)\n",
    "        self.transition(3)\n",
    "        self.transition(3)\n",
    "        self.transition(2)\n",
    "        self.transition(1)\n",
    "        self.transition(1)\n",
    "  \n",
    "print(\"initial state = 1\")      \n",
    "machine = StateMachine()\n",
    "machine.run()\n"
   ]
  },
  {
   "cell_type": "code",
   "execution_count": null,
   "id": "008af0e8",
   "metadata": {},
   "outputs": [
    {
     "name": "stdout",
     "output_type": "stream",
     "text": [
      "Enter the book title: pale blue eye\n",
      "Enter the author name: louis bayard\n",
      "Enter the book price: 3000\n",
      "Enter the publisher: grn\n",
      "Enter the number of books: 50\n",
      "Added new book 'pale blue eye' to the database\n",
      "Book Details:\n",
      "Title: Book Title 1, Author: Author 1, Price: 10.99, Publisher: Publisher 1, Quantity: 5\n",
      "Title: Book Title 2, Author: Author 2, Price: 15.99, Publisher: Publisher 2, Quantity: 3\n",
      "Title: Book Title 3, Author: Author 3, Price: 12.5, Publisher: Publisher 3, Quantity: 8\n",
      "Title: pale blue eye, Author: louis bayard, Price: 3000.0, Publisher: grn, Quantity: 50\n"
     ]
    }
   ],
   "source": [
    "# Book database as a list of lists\n",
    "book_database = [\n",
    "    ['Author 1', 'Book Title 1', 10.99, 'Publisher 1', 5],\n",
    "    ['Author 2', 'Book Title 2', 15.99, 'Publisher 2', 3],\n",
    "    ['Author 3', 'Book Title 3', 12.50, 'Publisher 3', 8],\n",
    "]\n",
    "\n",
    "# Function to add a book to the database\n",
    "def add(book_list):\n",
    "    title = input(\"Enter the book title: \")\n",
    "    \n",
    "    # Check if the book is already in the database\n",
    "    for book in book_list:\n",
    "        if book[1] == title:\n",
    "            quantity = int(input(\"Enter the number of books: \"))\n",
    "            book[4] += quantity  # Update the book count\n",
    "            print(f\"Updated book count for '{title}'\")\n",
    "            return\n",
    "    \n",
    "    # If the book is not in the database, add it as a new book\n",
    "    author = input(\"Enter the author name: \")\n",
    "    price = float(input(\"Enter the book price: \"))\n",
    "    publisher = input(\"Enter the publisher: \")\n",
    "    quantity = int(input(\"Enter the number of books: \"))\n",
    "    book_list.append([author, title, price, publisher, quantity])\n",
    "    print(f\"Added new book '{title}' to the database\")\n",
    "\n",
    "# Function to display all book details\n",
    "def display(book_list):\n",
    "    print(\"Book Details:\")\n",
    "    for book in book_list:\n",
    "        author, title, price, publisher, quantity = book\n",
    "        print(f\"Title: {title}, Author: {author}, Price: {price}, Publisher: {publisher}, Quantity: {quantity}\")\n",
    "\n",
    "# Function to remove books from the database\n",
    "def remove(book_list):\n",
    "    title = input(\"Enter the book title: \")\n",
    "    quantity = int(input(\"Enter the number of books to remove: \"))\n",
    "    \n",
    "    for book in book_list:\n",
    "        if book[1] == title:\n",
    "            if book[4] >= quantity:\n",
    "                book[4] -= quantity\n",
    "                print(f\"Removed {quantity} book(s) of '{title}' from the database\")\n",
    "            else:\n",
    "                print(f\"There are only {book[4]} book(s) of '{title}' in the database.\")\n",
    "            return\n",
    "    \n",
    "    print(f\"'{title}' is not found in the database\")\n",
    "\n",
    "# Function to delete a book from the database\n",
    "def delete(book_list):\n",
    "    title = input(\"Enter the book title: \")\n",
    "    \n",
    "    for book in book_list:\n",
    "        if book[1] == title:\n",
    "            book_list.remove(book)\n",
    "            print(f\"Deleted '{title}' from the database\")\n",
    "            return\n",
    "    \n",
    "    print(f\"'{title}' is not found in the database\")\n",
    "\n",
    "# Test the functions\n",
    "add(book_database)\n",
    "display(book_database)\n",
    "remove(book_database)\n",
    "delete(book_database)\n"
   ]
  },
  {
   "cell_type": "code",
   "execution_count": null,
   "id": "149b0f46",
   "metadata": {},
   "outputs": [],
   "source": []
  },
  {
   "cell_type": "code",
   "execution_count": null,
   "id": "682b54f4",
   "metadata": {},
   "outputs": [],
   "source": []
  }
 ],
 "metadata": {
  "kernelspec": {
   "display_name": "Python 3 (ipykernel)",
   "language": "python",
   "name": "python3"
  },
  "language_info": {
   "codemirror_mode": {
    "name": "ipython",
    "version": 3
   },
   "file_extension": ".py",
   "mimetype": "text/x-python",
   "name": "python",
   "nbconvert_exporter": "python",
   "pygments_lexer": "ipython3",
   "version": "3.9.13"
  }
 },
 "nbformat": 4,
 "nbformat_minor": 5
}
